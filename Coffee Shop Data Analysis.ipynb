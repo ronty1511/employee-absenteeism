{
 "cells": [
  {
   "cell_type": "code",
   "execution_count": 103,
   "id": "c569c1b8",
   "metadata": {},
   "outputs": [],
   "source": [
    "import numpy as np\n",
    "import pandas as pd\n",
    "import matplotlib.pyplot as plt\n",
    "%matplotlib inline"
   ]
  },
  {
   "cell_type": "code",
   "execution_count": 104,
   "id": "2af838bc",
   "metadata": {},
   "outputs": [],
   "source": [
    "df = pd.read_csv('data.csv')"
   ]
  },
  {
   "cell_type": "code",
   "execution_count": 105,
   "id": "e0303e98",
   "metadata": {
    "scrolled": true
   },
   "outputs": [
    {
     "data": {
      "text/html": [
       "<div>\n",
       "<style scoped>\n",
       "    .dataframe tbody tr th:only-of-type {\n",
       "        vertical-align: middle;\n",
       "    }\n",
       "\n",
       "    .dataframe tbody tr th {\n",
       "        vertical-align: top;\n",
       "    }\n",
       "\n",
       "    .dataframe thead th {\n",
       "        text-align: right;\n",
       "    }\n",
       "</style>\n",
       "<table border=\"1\" class=\"dataframe\">\n",
       "  <thead>\n",
       "    <tr style=\"text-align: right;\">\n",
       "      <th></th>\n",
       "      <th>City coffee shop</th>\n",
       "      <th>Year</th>\n",
       "      <th>Month</th>\n",
       "      <th>Product category</th>\n",
       "      <th>Sales Volume</th>\n",
       "      <th>Sales Value</th>\n",
       "    </tr>\n",
       "  </thead>\n",
       "  <tbody>\n",
       "    <tr>\n",
       "      <th>0</th>\n",
       "      <td>Southampton</td>\n",
       "      <td>2020</td>\n",
       "      <td>1</td>\n",
       "      <td>Coffee</td>\n",
       "      <td>91.0</td>\n",
       "      <td>364.0</td>\n",
       "    </tr>\n",
       "    <tr>\n",
       "      <th>1</th>\n",
       "      <td>Southampton</td>\n",
       "      <td>2020</td>\n",
       "      <td>1</td>\n",
       "      <td>Hot drinks</td>\n",
       "      <td>46.0</td>\n",
       "      <td>92.0</td>\n",
       "    </tr>\n",
       "    <tr>\n",
       "      <th>2</th>\n",
       "      <td>Southampton</td>\n",
       "      <td>2020</td>\n",
       "      <td>1</td>\n",
       "      <td>Cold drinks</td>\n",
       "      <td>60.0</td>\n",
       "      <td>150.0</td>\n",
       "    </tr>\n",
       "    <tr>\n",
       "      <th>3</th>\n",
       "      <td>Southampton</td>\n",
       "      <td>2020</td>\n",
       "      <td>1</td>\n",
       "      <td>Cakes</td>\n",
       "      <td>23.0</td>\n",
       "      <td>115.0</td>\n",
       "    </tr>\n",
       "    <tr>\n",
       "      <th>4</th>\n",
       "      <td>Southampton</td>\n",
       "      <td>2020</td>\n",
       "      <td>1</td>\n",
       "      <td>Sandwiches</td>\n",
       "      <td>19.0</td>\n",
       "      <td>114.0</td>\n",
       "    </tr>\n",
       "  </tbody>\n",
       "</table>\n",
       "</div>"
      ],
      "text/plain": [
       "  City coffee shop  Year  Month Product category  Sales Volume  Sales Value\n",
       "0      Southampton  2020      1           Coffee          91.0        364.0\n",
       "1      Southampton  2020      1       Hot drinks          46.0         92.0\n",
       "2      Southampton  2020      1      Cold drinks          60.0        150.0\n",
       "3      Southampton  2020      1            Cakes          23.0        115.0\n",
       "4      Southampton  2020      1       Sandwiches          19.0        114.0"
      ]
     },
     "execution_count": 105,
     "metadata": {},
     "output_type": "execute_result"
    }
   ],
   "source": [
    "df.head()"
   ]
  },
  {
   "cell_type": "code",
   "execution_count": 106,
   "id": "d6afbb6d",
   "metadata": {},
   "outputs": [
    {
     "data": {
      "text/plain": [
       "(648, 6)"
      ]
     },
     "execution_count": 106,
     "metadata": {},
     "output_type": "execute_result"
    }
   ],
   "source": [
    "df.shape"
   ]
  },
  {
   "cell_type": "code",
   "execution_count": 107,
   "id": "61545d5b",
   "metadata": {},
   "outputs": [],
   "source": [
    "df[[\"Sales Volume\", \"Sales Value\"]] = df[[\"Sales Volume\", \"Sales Value\"]].apply(pd.to_numeric)"
   ]
  },
  {
   "cell_type": "code",
   "execution_count": 108,
   "id": "9c1f7b5c",
   "metadata": {},
   "outputs": [],
   "source": [
    "grouped_by_loc = df.groupby([\"City coffee shop\"]).agg({\"Sales Volume\": \"sum\", \"Sales Value\": \"sum\"})"
   ]
  },
  {
   "cell_type": "code",
   "execution_count": 109,
   "id": "35bdce60",
   "metadata": {
    "scrolled": true
   },
   "outputs": [
    {
     "data": {
      "text/html": [
       "<div>\n",
       "<style scoped>\n",
       "    .dataframe tbody tr th:only-of-type {\n",
       "        vertical-align: middle;\n",
       "    }\n",
       "\n",
       "    .dataframe tbody tr th {\n",
       "        vertical-align: top;\n",
       "    }\n",
       "\n",
       "    .dataframe thead th {\n",
       "        text-align: right;\n",
       "    }\n",
       "</style>\n",
       "<table border=\"1\" class=\"dataframe\">\n",
       "  <thead>\n",
       "    <tr style=\"text-align: right;\">\n",
       "      <th></th>\n",
       "      <th>Sales Volume</th>\n",
       "      <th>Sales Value</th>\n",
       "    </tr>\n",
       "    <tr>\n",
       "      <th>City coffee shop</th>\n",
       "      <th></th>\n",
       "      <th></th>\n",
       "    </tr>\n",
       "  </thead>\n",
       "  <tbody>\n",
       "    <tr>\n",
       "      <th>Blackpool</th>\n",
       "      <td>27515.692</td>\n",
       "      <td>89238.36</td>\n",
       "    </tr>\n",
       "    <tr>\n",
       "      <th>Portsmouth</th>\n",
       "      <td>19426.500</td>\n",
       "      <td>62271.75</td>\n",
       "    </tr>\n",
       "    <tr>\n",
       "      <th>Southampton</th>\n",
       "      <td>13338.000</td>\n",
       "      <td>42952.50</td>\n",
       "    </tr>\n",
       "  </tbody>\n",
       "</table>\n",
       "</div>"
      ],
      "text/plain": [
       "                  Sales Volume  Sales Value\n",
       "City coffee shop                           \n",
       "Blackpool            27515.692     89238.36\n",
       "Portsmouth           19426.500     62271.75\n",
       "Southampton          13338.000     42952.50"
      ]
     },
     "execution_count": 109,
     "metadata": {},
     "output_type": "execute_result"
    }
   ],
   "source": [
    "grouped_by_loc.head(10)"
   ]
  },
  {
   "cell_type": "code",
   "execution_count": 159,
   "id": "3d181890",
   "metadata": {},
   "outputs": [
    {
     "data": {
      "text/plain": [
       "<matplotlib.legend.Legend at 0x2582664cfa0>"
      ]
     },
     "execution_count": 159,
     "metadata": {},
     "output_type": "execute_result"
    },
    {
     "data": {
      "image/png": "[encoded data removed]",
      "text/plain": [
       "<Figure size 432x288 with 1 Axes>"
      ]
     },
     "metadata": {
      "needs_background": "light"
     },
     "output_type": "display_data"
    }
   ],
   "source": [
    "agg_sales_values_by_loc = grouped_by_loc['Sales Value'].values\n",
    "agg_sales_volume_by_loc = grouped_by_loc['Sales Volume'].values\n",
    "cities = grouped_by_loc.index.to_list()\n",
    "plt.plot(cities, agg_sales_values_by_loc, label=\"Sales Values\")\n",
    "plt.plot(cities, agg_sales_volume_by_loc, label=\"Sales Volume\")\n",
    "plt.title(label=\"Sales Value & Volume in different locations\")\n",
    "plt.legend()"
   ]
  },
  {
   "cell_type": "code",
   "execution_count": 111,
   "id": "4dc51f7e",
   "metadata": {},
   "outputs": [],
   "source": [
    "plt.close()"
   ]
  },
  {
   "cell_type": "markdown",
   "id": "ca08d442",
   "metadata": {},
   "source": [
    "### Clearly, Blackpool has the highest sales value and volume and it qualifies as the best shop to invest in expanding the floor area"
   ]
  },
  {
   "cell_type": "code",
   "execution_count": 141,
   "id": "fe66a50a",
   "metadata": {},
   "outputs": [
    {
     "data": {
      "text/html": [
       "<div>\n",
       "<style scoped>\n",
       "    .dataframe tbody tr th:only-of-type {\n",
       "        vertical-align: middle;\n",
       "    }\n",
       "\n",
       "    .dataframe tbody tr th {\n",
       "        vertical-align: top;\n",
       "    }\n",
       "\n",
       "    .dataframe thead th {\n",
       "        text-align: right;\n",
       "    }\n",
       "</style>\n",
       "<table border=\"1\" class=\"dataframe\">\n",
       "  <thead>\n",
       "    <tr style=\"text-align: right;\">\n",
       "      <th></th>\n",
       "      <th>Sales Volume</th>\n",
       "      <th>Sales Value</th>\n",
       "    </tr>\n",
       "    <tr>\n",
       "      <th>Product category</th>\n",
       "      <th></th>\n",
       "      <th></th>\n",
       "    </tr>\n",
       "  </thead>\n",
       "  <tbody>\n",
       "    <tr>\n",
       "      <th>Cakes</th>\n",
       "      <td>5450.490</td>\n",
       "      <td>27252.450</td>\n",
       "    </tr>\n",
       "    <tr>\n",
       "      <th>Coffee</th>\n",
       "      <td>18262.692</td>\n",
       "      <td>73050.768</td>\n",
       "    </tr>\n",
       "    <tr>\n",
       "      <th>Cold drinks</th>\n",
       "      <td>12012.592</td>\n",
       "      <td>30413.980</td>\n",
       "    </tr>\n",
       "    <tr>\n",
       "      <th>Hot drinks</th>\n",
       "      <td>8871.912</td>\n",
       "      <td>17743.824</td>\n",
       "    </tr>\n",
       "    <tr>\n",
       "      <th>Pastry</th>\n",
       "      <td>12108.862</td>\n",
       "      <td>24559.724</td>\n",
       "    </tr>\n",
       "    <tr>\n",
       "      <th>Sandwiches</th>\n",
       "      <td>3573.644</td>\n",
       "      <td>21441.864</td>\n",
       "    </tr>\n",
       "  </tbody>\n",
       "</table>\n",
       "</div>"
      ],
      "text/plain": [
       "                  Sales Volume  Sales Value\n",
       "Product category                           \n",
       "Cakes                 5450.490    27252.450\n",
       "Coffee               18262.692    73050.768\n",
       "Cold drinks          12012.592    30413.980\n",
       "Hot drinks            8871.912    17743.824\n",
       "Pastry               12108.862    24559.724\n",
       "Sandwiches            3573.644    21441.864"
      ]
     },
     "execution_count": 141,
     "metadata": {},
     "output_type": "execute_result"
    }
   ],
   "source": [
    "grouped_by_product = df.groupby([\"Product category\"]).agg({\"Sales Volume\": \"sum\", \"Sales Value\": \"sum\"})\n",
    "grouped_by_product.head(10)"
   ]
  },
  {
   "cell_type": "code",
   "execution_count": 160,
   "id": "4eb86b93",
   "metadata": {},
   "outputs": [
    {
     "data": {
      "text/plain": [
       "<matplotlib.legend.Legend at 0x258261dc490>"
      ]
     },
     "execution_count": 160,
     "metadata": {},
     "output_type": "execute_result"
    },
    {
     "data": {
      "image/png": "[encoded data removed]",
      "text/plain": [
       "<Figure size 432x288 with 1 Axes>"
      ]
     },
     "metadata": {
      "needs_background": "light"
     },
     "output_type": "display_data"
    }
   ],
   "source": [
    "agg_sales_values_by_product = grouped_by_product['Sales Value'].values\n",
    "agg_sales_volume_by_product = grouped_by_product['Sales Volume'].values\n",
    "products = grouped_by_product.index.to_list()\n",
    "plt.plot(products, agg_sales_values_by_product, label=\"Sales Values\")\n",
    "plt.plot(products, agg_sales_volume_by_product, label=\"Sales Volume\")\n",
    "plt.title(label=\"Sales Value & Volume for different products\")\n",
    "plt.legend()"
   ]
  },
  {
   "cell_type": "code",
   "execution_count": 146,
   "id": "10d9182a",
   "metadata": {},
   "outputs": [],
   "source": [
    "plt.close()"
   ]
  },
  {
   "cell_type": "markdown",
   "id": "9028b4b7",
   "metadata": {},
   "source": [
    "### From the chart, it can be inferred that hot drinks and sandwiches are among the products with the least demand. However other parameters need to be looked into, e.g., selling price per item, cost of making an item, etc., and then the decision to discontinue an item can be taken"
   ]
  },
  {
   "cell_type": "code",
   "execution_count": 152,
   "id": "ae1603ec",
   "metadata": {},
   "outputs": [],
   "source": [
    "grouped_by_year_blackpool = df[df[\"City coffee shop\"]=='Blackpool'].groupby([\"Year\"]).agg({\"Sales Value\": \"sum\"})\n",
    "grouped_by_year_blackpool[\"YOY Perc. Change\"] = grouped_by_year_blackpool.pct_change() * 100"
   ]
  },
  {
   "cell_type": "code",
   "execution_count": 153,
   "id": "2e784921",
   "metadata": {},
   "outputs": [
    {
     "data": {
      "text/html": [
       "<div>\n",
       "<style scoped>\n",
       "    .dataframe tbody tr th:only-of-type {\n",
       "        vertical-align: middle;\n",
       "    }\n",
       "\n",
       "    .dataframe tbody tr th {\n",
       "        vertical-align: top;\n",
       "    }\n",
       "\n",
       "    .dataframe thead th {\n",
       "        text-align: right;\n",
       "    }\n",
       "</style>\n",
       "<table border=\"1\" class=\"dataframe\">\n",
       "  <thead>\n",
       "    <tr style=\"text-align: right;\">\n",
       "      <th></th>\n",
       "      <th>Sales Value</th>\n",
       "      <th>YOY Perc. Change</th>\n",
       "    </tr>\n",
       "    <tr>\n",
       "      <th>Year</th>\n",
       "      <th></th>\n",
       "      <th></th>\n",
       "    </tr>\n",
       "  </thead>\n",
       "  <tbody>\n",
       "    <tr>\n",
       "      <th>2020</th>\n",
       "      <td>27252.00</td>\n",
       "      <td>NaN</td>\n",
       "    </tr>\n",
       "    <tr>\n",
       "      <th>2021</th>\n",
       "      <td>28601.00</td>\n",
       "      <td>4.950095</td>\n",
       "    </tr>\n",
       "    <tr>\n",
       "      <th>2022</th>\n",
       "      <td>33385.36</td>\n",
       "      <td>16.727947</td>\n",
       "    </tr>\n",
       "  </tbody>\n",
       "</table>\n",
       "</div>"
      ],
      "text/plain": [
       "      Sales Value  YOY Perc. Change\n",
       "Year                               \n",
       "2020     27252.00               NaN\n",
       "2021     28601.00          4.950095\n",
       "2022     33385.36         16.727947"
      ]
     },
     "execution_count": 153,
     "metadata": {},
     "output_type": "execute_result"
    }
   ],
   "source": [
    "grouped_by_year_blackpool.head()"
   ]
  },
  {
   "cell_type": "markdown",
   "id": "0bcb7984",
   "metadata": {},
   "source": [
    "### Year on year revenue has shot up by 16% in 2022. This can be attributed to home delivery service although other factors need to be considered. For example, due to a recovering economy after COVID demand surged and the revenue increase has been witnessed by competitors as well. In that case we cannot conclude home delivery service singlehandedly contributed to sales boost."
   ]
  }
 ],
 "metadata": {
  "kernelspec": {
   "display_name": "Python 3 (ipykernel)",
   "language": "python",
   "name": "python3"
  },
  "language_info": {
   "codemirror_mode": {
    "name": "ipython",
    "version": 3
   },
   "file_extension": ".py",
   "mimetype": "text/x-python",
   "name": "python",
   "nbconvert_exporter": "python",
   "pygments_lexer": "ipython3",
   "version": "3.9.7"
  }
 },
 "nbformat": 4,
 "nbformat_minor": 5
}
